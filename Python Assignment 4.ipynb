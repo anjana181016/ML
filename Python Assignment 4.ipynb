{
 "cells": [
  {
   "cell_type": "markdown",
   "metadata": {},
   "source": [
    "Q. Write a Python Program(with class concepts) to find the area of the triangle using the below formula.\n",
    "   \n",
    "   area = (s*(s-a)*(s-b)*(s-c)) ** 0.5\n",
    "   \n",
    "   Function to take the length of the sides of triangle from user should be defined in the parent class and function to     calculate the area should be defined in subclass."
   ]
  },
  {
   "cell_type": "code",
   "execution_count": 22,
   "metadata": {},
   "outputs": [],
   "source": [
    "class Triangle:\n",
    "    def __init__(self):\n",
    "        self.a=float(input(\"Length of first side a: \"))\n",
    "        self.b=float(input(\"Length of second side b : \"))\n",
    "        self.c=float(input(\"Lengthof third side c : \"))\n",
    "    "
   ]
  },
  {
   "cell_type": "code",
   "execution_count": 23,
   "metadata": {},
   "outputs": [],
   "source": [
    "class Area(Triangle):\n",
    "    def area(self):\n",
    "        self.s=(self.a+self.b+self.c)/2\n",
    "        area=(self.s*(self.s-self.a)*(self.s-self.b)*(self.s-self.c))**0.5\n",
    "        print(\"Area of Triangle = {} cm\\u00b2\".format(area))\n",
    "        \n",
    "        "
   ]
  },
  {
   "cell_type": "code",
   "execution_count": 24,
   "metadata": {},
   "outputs": [
    {
     "name": "stdout",
     "output_type": "stream",
     "text": [
      "Length of first side a: 12\n",
      "Length of second side b : 13\n",
      "Lengthof third side c : 14\n",
      "Area of Triangle = 72.30793524918272 cm²\n"
     ]
    }
   ],
   "source": [
    "out=Area()\n",
    "out.area()"
   ]
  },
  {
   "cell_type": "code",
   "execution_count": null,
   "metadata": {},
   "outputs": [],
   "source": []
  },
  {
   "cell_type": "markdown",
   "metadata": {},
   "source": [
    "Q.  Write a function filter_long_words() that takes a list of words and an integer n and returns the list of words that are longer than n."
   ]
  },
  {
   "cell_type": "code",
   "execution_count": 25,
   "metadata": {},
   "outputs": [],
   "source": [
    "def filter_long_words(lst,n):\n",
    "    out=[]\n",
    "    for word in lst:\n",
    "        if len(word)>n:\n",
    "            out.append(word)\n",
    "    print(\"List of words that are longer than {} are : {}\".format(n,out))"
   ]
  },
  {
   "cell_type": "code",
   "execution_count": 26,
   "metadata": {},
   "outputs": [
    {
     "name": "stdout",
     "output_type": "stream",
     "text": [
      "List of words that are longer than 4 are : ['parrot', 'rabbit', 'monkey', 'machine learning']\n"
     ]
    }
   ],
   "source": [
    "lst=['parrot','crow','rabbit','monkey','ant','rat','machine learning']\n",
    "filter_long_words(lst,4)"
   ]
  },
  {
   "cell_type": "code",
   "execution_count": null,
   "metadata": {},
   "outputs": [],
   "source": []
  },
  {
   "cell_type": "markdown",
   "metadata": {},
   "source": [
    "Q. Write a Python program using function concept that maps list of words into a list of integers representing the lengths of the    corresponding words.\n",
    "   Hint: If a list [ab,cde,erty] is passed on to the python function output should come as [2,3,4]\n",
    "   Here 2,3 and 4 are the lengths of the words in the list."
   ]
  },
  {
   "cell_type": "code",
   "execution_count": 27,
   "metadata": {},
   "outputs": [],
   "source": [
    "def Length_of_word(word):\n",
    "    return len(word)"
   ]
  },
  {
   "cell_type": "code",
   "execution_count": 28,
   "metadata": {},
   "outputs": [
    {
     "data": {
      "text/plain": [
       "[6, 4, 6, 6, 3, 3, 16]"
      ]
     },
     "execution_count": 28,
     "metadata": {},
     "output_type": "execute_result"
    }
   ],
   "source": [
    "lst=['parrot','crow','rabbit','monkey','ant','rat','machine learning']\n",
    "length=map(Length_of_word,lst)\n",
    "list(length)"
   ]
  },
  {
   "cell_type": "code",
   "execution_count": null,
   "metadata": {},
   "outputs": [],
   "source": []
  },
  {
   "cell_type": "markdown",
   "metadata": {},
   "source": [
    "Q. Write a Python function which takes a character (i.e. a string of length 1) and returns True if it is a vowel, False otherwise."
   ]
  },
  {
   "cell_type": "code",
   "execution_count": 29,
   "metadata": {},
   "outputs": [],
   "source": [
    "def is_vowel(x):\n",
    "    vowel=['a','e','i','o','u','A','E','I','O','U']\n",
    "    if x in vowel:\n",
    "        return True\n",
    "    else:\n",
    "        return False"
   ]
  },
  {
   "cell_type": "code",
   "execution_count": 30,
   "metadata": {},
   "outputs": [
    {
     "name": "stdout",
     "output_type": "stream",
     "text": [
      "Enter a character : E\n"
     ]
    },
    {
     "data": {
      "text/plain": [
       "True"
      ]
     },
     "execution_count": 30,
     "metadata": {},
     "output_type": "execute_result"
    }
   ],
   "source": [
    "is_vowel(input(\"Enter a character : \"))"
   ]
  },
  {
   "cell_type": "code",
   "execution_count": 31,
   "metadata": {},
   "outputs": [
    {
     "name": "stdout",
     "output_type": "stream",
     "text": [
      "Enter a character : d\n"
     ]
    },
    {
     "data": {
      "text/plain": [
       "False"
      ]
     },
     "execution_count": 31,
     "metadata": {},
     "output_type": "execute_result"
    }
   ],
   "source": [
    "is_vowel(input(\"Enter a character : \"))"
   ]
  },
  {
   "cell_type": "code",
   "execution_count": null,
   "metadata": {},
   "outputs": [],
   "source": []
  }
 ],
 "metadata": {
  "kernelspec": {
   "display_name": "Python 3",
   "language": "python",
   "name": "python3"
  },
  "language_info": {
   "codemirror_mode": {
    "name": "ipython",
    "version": 3
   },
   "file_extension": ".py",
   "mimetype": "text/x-python",
   "name": "python",
   "nbconvert_exporter": "python",
   "pygments_lexer": "ipython3",
   "version": "3.7.6"
  }
 },
 "nbformat": 4,
 "nbformat_minor": 4
}
